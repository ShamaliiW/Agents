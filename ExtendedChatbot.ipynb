{
 "cells": [
  {
   "cell_type": "markdown",
   "id": "3906e26b",
   "metadata": {},
   "source": [
    "This notebook build a basis chatbot with Langraph (Graph API)"
   ]
  },
  {
   "cell_type": "code",
   "execution_count": 78,
   "id": "945841d3",
   "metadata": {},
   "outputs": [],
   "source": [
    "from typing import Annotated\n",
    "from typing_extensions import TypedDict\n",
    "from langgraph.graph import StateGraph, START, END\n",
    "\n",
    "from langgraph.graph.message import add_messages\n",
    "# add_messages -> reducers (this type the state keys are appended and not overwritten) "
   ]
  },
  {
   "cell_type": "code",
   "execution_count": 79,
   "id": "f62d9ad3",
   "metadata": {},
   "outputs": [],
   "source": [
    "class State(TypedDict):\n",
    "    messages:Annotated[list, add_messages] # The messages are added to a list\n",
    "\n",
    "\n"
   ]
  },
  {
   "cell_type": "code",
   "execution_count": 80,
   "id": "89deb438",
   "metadata": {},
   "outputs": [
    {
     "data": {
      "text/plain": [
       "True"
      ]
     },
     "execution_count": 80,
     "metadata": {},
     "output_type": "execute_result"
    }
   ],
   "source": [
    "import os\n",
    "from dotenv import load_dotenv\n",
    "load_dotenv()\n"
   ]
  },
  {
   "cell_type": "code",
   "execution_count": 81,
   "id": "e40e4e5c",
   "metadata": {},
   "outputs": [],
   "source": [
    "# from langchain_groq import ChatGroq\n",
    "# llm = ChatGroq(model='llama3-8b-8192')"
   ]
  },
  {
   "cell_type": "code",
   "execution_count": 82,
   "id": "68eed177",
   "metadata": {},
   "outputs": [],
   "source": [
    "from langchain.chat_models import init_chat_model\n",
    "llm = init_chat_model(model=\"groq:llama3-8b-8192\")"
   ]
  },
  {
   "cell_type": "code",
   "execution_count": 83,
   "id": "0004f654",
   "metadata": {},
   "outputs": [],
   "source": [
    "# functionality of the node\n",
    "def chatbot(state:State):\n",
    "    return {\"messages\":[llm.invoke(state[\"messages\"])]}"
   ]
  },
  {
   "cell_type": "code",
   "execution_count": 84,
   "id": "341050b9",
   "metadata": {},
   "outputs": [],
   "source": [
    "graph_builder = StateGraph(State)"
   ]
  },
  {
   "cell_type": "code",
   "execution_count": 85,
   "id": "9702d881",
   "metadata": {},
   "outputs": [],
   "source": [
    "# Adding nodes\n",
    "graph_builder.add_node(\"chatbot\", chatbot)\n",
    "\n",
    "# Adding edges\n",
    "graph_builder.add_edge(START, \"chatbot\")\n",
    "graph_builder.add_edge(\"chatbot\", END)\n",
    "\n",
    "# Compile the graph\n",
    "graph=graph_builder.compile()"
   ]
  },
  {
   "cell_type": "code",
   "execution_count": 86,
   "id": "0dbc79a9",
   "metadata": {},
   "outputs": [
    {
     "data": {
      "image/png": "[encoded data removed]",
      "text/plain": [
       "<IPython.core.display.Image object>"
      ]
     },
     "metadata": {},
     "output_type": "display_data"
    }
   ],
   "source": [
    "from IPython.display import Image,display\n",
    "\n",
    "try:\n",
    "    display(Image(graph.get_graph().draw_mermaid_png()))\n",
    "except Exception:\n",
    "    pass\n"
   ]
  },
  {
   "cell_type": "code",
   "execution_count": 87,
   "id": "c8f2e931",
   "metadata": {},
   "outputs": [
    {
     "data": {
      "text/plain": [
       "{'messages': [HumanMessage(content='Hi', additional_kwargs={}, response_metadata={}, id='6c347758-dddf-4cad-94cd-7a8e67fc86ee'),\n",
       "  AIMessage(content=\"Hi! It's nice to meet you. Is there something I can help you with or would you like to chat?\", additional_kwargs={}, response_metadata={'token_usage': {'completion_tokens': 25, 'prompt_tokens': 11, 'total_tokens': 36, 'completion_time': 0.020061464, 'prompt_time': 0.002077581, 'queue_time': 0.269986092, 'total_time': 0.022139045}, 'model_name': 'llama3-8b-8192', 'system_fingerprint': 'fp_6d1c2b0784', 'finish_reason': 'stop', 'logprobs': None}, id='run--ea8e7c77-16e3-4a4f-bcc0-b2a8efb33102-0', usage_metadata={'input_tokens': 11, 'output_tokens': 25, 'total_tokens': 36})]}"
      ]
     },
     "execution_count": 87,
     "metadata": {},
     "output_type": "execute_result"
    }
   ],
   "source": [
    "graph.invoke({\"messages\":\"Hi\"})"
   ]
  },
  {
   "cell_type": "code",
   "execution_count": 88,
   "id": "d10b7e4f",
   "metadata": {},
   "outputs": [],
   "source": [
    "# HumanMessage, AIMessage - Annotations"
   ]
  },
  {
   "cell_type": "code",
   "execution_count": 89,
   "id": "e2216a99",
   "metadata": {},
   "outputs": [],
   "source": [
    "response = graph.invoke({\"messages\":\"Hi\"})"
   ]
  },
  {
   "cell_type": "code",
   "execution_count": 90,
   "id": "767ad1de",
   "metadata": {},
   "outputs": [
    {
     "data": {
      "text/plain": [
       "\"Hi! It's nice to meet you. Is there something I can help you with or would you like to chat?\""
      ]
     },
     "execution_count": 90,
     "metadata": {},
     "output_type": "execute_result"
    }
   ],
   "source": [
    "response['messages'][-1].content"
   ]
  },
  {
   "cell_type": "code",
   "execution_count": 91,
   "id": "643b4890",
   "metadata": {},
   "outputs": [
    {
     "name": "stdout",
     "output_type": "stream",
     "text": [
      "I'm just a language model, I don't have feelings or emotions like humans do, but I'm functioning properly and ready to help with any questions or tasks you have! Is there something specific you'd like to chat about or ask?\n"
     ]
    }
   ],
   "source": [
    "for event in graph.stream({\"messages\": \"How are you?\"}):\n",
    "    for value in event.values(): \n",
    "        print(value[\"messages\"][-1].content)"
   ]
  },
  {
   "cell_type": "code",
   "execution_count": 92,
   "id": "4a35bfb1",
   "metadata": {},
   "outputs": [
    {
     "data": {
      "text/plain": [
       "{'query': 'Explain about langgraph vs lsngchain',\n",
       " 'follow_up_questions': None,\n",
       " 'answer': None,\n",
       " 'images': [],\n",
       " 'results': [{'title': 'LangChain vs LangGraph: Key Differences Explained - Simplilearn',\n",
       "   'url': 'https://www.simplilearn.com/langchain-vs-langgraph-article',\n",
       "   'content': 'LangGraph picks up where LangChain leaves off, itâ\\x80\\x99s made for situations where your app needs to manage complex flows, not just run a straight line of steps. LangSmith is what you bring in when your LLM app is getting real, itâ\\x80\\x99s a dev platform for debugging, testing, and monitoring everything you build with LangChain (or LangGraph). | LangChain | Chaining LLM calls, prompts, memory, and tools | Building full-featured LLM apps with structured flows | Yes | Yes | | LangFlow | Visual interface for building LangChain apps with no/low code | Prototyping, testing ideas quickly, MVPs without writing much code | No | Not ideal for production | When it comes to building with LLMs, thereâ\\x80\\x99s no one-size-fits-all tool, and thatâ\\x80\\x99s exactly why LangChain, LangGraph, LangFlow, and LangSmith each exist.',\n",
       "   'score': 0.8051581,\n",
       "   'raw_content': None},\n",
       "  {'title': 'LangChain vs LangGraph: Which One Should You Use for LLM Workflows?',\n",
       "   'url': 'https://sangeethasaravanan.medium.com/langchain-vs-langgraph-which-one-should-you-use-for-llm-workflows-93708265c09e',\n",
       "   'content': \"LangChain vs LangGraph 🧪 Real-World Example Let's say you're building a customer support assistant. In LangChain, you might build a chain that takes the user query, runs classification, and calls an LLM to generate a reply. In LangGraph, you can build a graph with decision logic: If it's a billing query, route to the billing agent.\",\n",
       "   'score': 0.78214747,\n",
       "   'raw_content': None}],\n",
       " 'response_time': 1.78}"
      ]
     },
     "execution_count": 92,
     "metadata": {},
     "output_type": "execute_result"
    }
   ],
   "source": [
    "from langchain_tavily import TavilySearch\n",
    "tool = TavilySearch(max_results=2)\n",
    "tool.invoke(\"Explain about langgraph vs lsngchain\")\n"
   ]
  },
  {
   "cell_type": "code",
   "execution_count": 93,
   "id": "e01040f3",
   "metadata": {},
   "outputs": [],
   "source": [
    "def customerfunction(a:int, b:int)->int:\n",
    "    \"\"\"multiply a and b\n",
    "\n",
    "    Args:\n",
    "        a (int): first int\n",
    "        b (int): second int\n",
    "\n",
    "    Returns:\n",
    "        int: output int      \n",
    "    \"\"\"\n",
    "    return a*b"
   ]
  },
  {
   "cell_type": "code",
   "execution_count": 94,
   "id": "de6ec6b0",
   "metadata": {},
   "outputs": [],
   "source": [
    "tools=[tool,customerfunction]"
   ]
  },
  {
   "cell_type": "code",
   "execution_count": 95,
   "id": "166c9d8d",
   "metadata": {},
   "outputs": [],
   "source": [
    "llm_with_tools=llm.bind_tools(tools)"
   ]
  },
  {
   "cell_type": "code",
   "execution_count": 96,
   "id": "c65810ab",
   "metadata": {},
   "outputs": [],
   "source": [
    "from langgraph.prebuilt import ToolNode\n",
    "from langgraph.prebuilt import tools_condition"
   ]
  },
  {
   "cell_type": "code",
   "execution_count": null,
   "id": "12cbafc3",
   "metadata": {},
   "outputs": [],
   "source": []
  },
  {
   "cell_type": "code",
   "execution_count": 97,
   "id": "769255ab",
   "metadata": {},
   "outputs": [
    {
     "data": {
      "image/png": "[encoded data removed]",
      "text/plain": [
       "<IPython.core.display.Image object>"
      ]
     },
     "metadata": {},
     "output_type": "display_data"
    }
   ],
   "source": [
    "# Node definition\n",
    "def tool_calling_llm(state:State):\n",
    "    return {\"messages\":[llm_with_tools.invoke(state[\"messages\"])]}\n",
    "\n",
    "builder=StateGraph(State)\n",
    "builder.add_node(\"tool_calling_llm\",tool_calling_llm)\n",
    "builder.add_node(\"tools\", ToolNode(tools))\n",
    "\n",
    "# Add edges\n",
    "builder.add_edge(START, \"tool_calling_llm\")\n",
    "builder.add_conditional_edges(\n",
    "    \"tool_calling_llm\",\n",
    "    # if the latest message which is the result is a tool call -> tool_condition routes to tool, else routes to end\n",
    "    tools_condition\n",
    ")\n",
    "builder.add_edge(\"tools\", END)\n",
    "\n",
    "graph=builder.compile()\n",
    "\n",
    "display(Image(graph.get_graph().draw_mermaid_png()))\n",
    "\n"
   ]
  },
  {
   "cell_type": "code",
   "execution_count": 98,
   "id": "0f24696b",
   "metadata": {},
   "outputs": [
    {
     "data": {
      "text/plain": [
       "{'messages': [HumanMessage(content='What is a recent ai news of Langgraph', additional_kwargs={}, response_metadata={}, id='2950044d-ea4b-49d0-8a98-d62cfbc211e8'),\n",
       "  AIMessage(content='', additional_kwargs={'tool_calls': [{'id': 'w8wpjvf7m', 'function': {'arguments': '{\"query\":\"recent AI news Langgraph\",\"search_depth\":\"advanced\",\"topic\":\"general\"}', 'name': 'tavily_search'}, 'type': 'function'}]}, response_metadata={'token_usage': {'completion_tokens': 93, 'prompt_tokens': 2266, 'total_tokens': 2359, 'completion_time': 0.074483227, 'prompt_time': 0.255488489, 'queue_time': 0.274875212, 'total_time': 0.329971716}, 'model_name': 'llama3-8b-8192', 'system_fingerprint': 'fp_2717d04279', 'finish_reason': 'tool_calls', 'logprobs': None}, id='run--c134e4f6-bc37-4237-9c34-67149cce619f-0', tool_calls=[{'name': 'tavily_search', 'args': {'query': 'recent AI news Langgraph', 'search_depth': 'advanced', 'topic': 'general'}, 'id': 'w8wpjvf7m', 'type': 'tool_call'}], usage_metadata={'input_tokens': 2266, 'output_tokens': 93, 'total_tokens': 2359}),\n",
       "  ToolMessage(content='{\"query\": \"recent AI news Langgraph\", \"follow_up_questions\": null, \"answer\": null, \"images\": [], \"results\": [{\"url\": \"https://www.langchain.com/langgraph\", \"title\": \"LangGraph - LangChain\", \"content\": \"â\\x80\\x9cLangGraph has been instrumental for our AI development. Its robust framework for building stateful, multi-actor applications with LLMs has transformed how we evaluate and optimize the performance of our AI guest-facing solutions. LangGraph enables granular control over the agent\\'s thought process, which has empowered us to make data-driven and deliberate decisions to meet the diverse needs of our guests.â\\x80\\x9d [...] â\\x80\\x9cLangGraph has been instrumental for our AI development. Its robust framework for building stateful, multi-actor applications with LLMs has transformed how we evaluate and optimize the performance of our AI guest-facing solutions. LangGraph enables granular control over the agent\\'s thought process, which has empowered us to make data-driven and deliberate decisions to meet the diverse needs of our guests.â\\x80\\x9d [...] â\\x80\\x9cAs Ally advances its exploration of Generative AI, our tech labs is excited by LangGraph, the new library from LangChain, which is central to our experiments with multi-actor agentic workflows. We are committed to deepening our partnership with LangChain.â\\x80\\x9d\\\\n\\\\nâ\\x80\\x9cAs Ally advances its exploration of Generative AI,\", \"score\": 0.6651719, \"raw_content\": null}, {\"url\": \"https://medium.com/generative-ai/persistence-in-langgraph-the-brain-behind-the-workflow-61f57f9c432c\", \"title\": \"Persistence in LangGraph: The Brain behind the Workflow - Medium\", \"content\": \"All the latest news and updates on the rapidly evolving field of Generative AI space. From cutting-edge research and developments in LLMs, text-\", \"score\": 0.64236575, \"raw_content\": null}], \"response_time\": 5.26}', name='tavily_search', id='a3ed514d-f4da-4663-a852-d546de168a54', tool_call_id='w8wpjvf7m')]}"
      ]
     },
     "execution_count": 98,
     "metadata": {},
     "output_type": "execute_result"
    }
   ],
   "source": [
    "graph.invoke({\"messages\":\"What is a recent ai news of Langgraph\"})"
   ]
  },
  {
   "cell_type": "code",
   "execution_count": 99,
   "id": "b98f960c",
   "metadata": {},
   "outputs": [],
   "source": [
    "response=graph.invoke({\"messages\":\"What is a recent ai news of Langgraph\"})"
   ]
  },
  {
   "cell_type": "code",
   "execution_count": 100,
   "id": "541c444c",
   "metadata": {},
   "outputs": [
    {
     "data": {
      "text/plain": [
       "'{\"query\": \"langraph ai recent news\", \"follow_up_questions\": null, \"answer\": null, \"images\": [], \"results\": [{\"url\": \"https://changelog.langchain.com/\", \"title\": \"LangChain - Changelog\", \"content\": \"June 18, 2025 · LangGraph. LangGraph Workflow Updates (Python & JS). We\\'ve rolled out a batch of new features across both LangGraph.js and LangGraph for Python\", \"score\": 0.73642004, \"raw_content\": null}, {\"url\": \"https://github.com/langchain-ai/langgraph/releases\", \"title\": \"Releases · langchain-ai/langgraph - GitHub\", \"content\": \"### 1. A leaner, stricter StateGraph\\\\n\\\\n`state_schema` is now mandatory.\\\\n\\\\n`state_schema`\\\\n\\\\n“Untyped” graphs were never shown in the docs and produced surprising runtime errors. Requiring an explicit schema fixes that class of bugs and improves static analysis.\\\\n\\\\n`input`/`output` → `input_schema`/`output_schema`\\\\n\\\\n`input`\\\\n`output`\\\\n`input_schema`\\\\n`output_schema`\\\\n\\\\nThe old names still work but raise a deprecation warning.\\\\n\\\\nNew `NodeBuilder` utility\\\\n\\\\n`NodeBuilder`\", \"score\": 0.6937432, \"raw_content\": null}], \"response_time\": 3.71}'"
      ]
     },
     "execution_count": 100,
     "metadata": {},
     "output_type": "execute_result"
    }
   ],
   "source": [
    "response[\"messages\"][-1].content"
   ]
  },
  {
   "cell_type": "code",
   "execution_count": 101,
   "id": "a63ab170",
   "metadata": {},
   "outputs": [
    {
     "name": "stdout",
     "output_type": "stream",
     "text": [
      "================================\u001b[1m Human Message \u001b[0m=================================\n",
      "\n",
      "What is a recent ai news of Langgraph\n",
      "==================================\u001b[1m Ai Message \u001b[0m==================================\n",
      "Tool Calls:\n",
      "  tavily_search (977sey0zd)\n",
      " Call ID: 977sey0zd\n",
      "  Args:\n",
      "    query: langraph ai recent news\n",
      "    search_depth: advanced\n",
      "    topic: general\n",
      "=================================\u001b[1m Tool Message \u001b[0m=================================\n",
      "Name: tavily_search\n",
      "\n",
      "{\"query\": \"langraph ai recent news\", \"follow_up_questions\": null, \"answer\": null, \"images\": [], \"results\": [{\"url\": \"https://changelog.langchain.com/\", \"title\": \"LangChain - Changelog\", \"content\": \"June 18, 2025 · LangGraph. LangGraph Workflow Updates (Python & JS). We've rolled out a batch of new features across both LangGraph.js and LangGraph for Python\", \"score\": 0.73642004, \"raw_content\": null}, {\"url\": \"https://github.com/langchain-ai/langgraph/releases\", \"title\": \"Releases · langchain-ai/langgraph - GitHub\", \"content\": \"### 1. A leaner, stricter StateGraph\\n\\n`state_schema` is now mandatory.\\n\\n`state_schema`\\n\\n“Untyped” graphs were never shown in the docs and produced surprising runtime errors. Requiring an explicit schema fixes that class of bugs and improves static analysis.\\n\\n`input`/`output` → `input_schema`/`output_schema`\\n\\n`input`\\n`output`\\n`input_schema`\\n`output_schema`\\n\\nThe old names still work but raise a deprecation warning.\\n\\nNew `NodeBuilder` utility\\n\\n`NodeBuilder`\", \"score\": 0.6937432, \"raw_content\": null}], \"response_time\": 3.71}\n"
     ]
    }
   ],
   "source": [
    "for m in response['messages']:\n",
    "    m.pretty_print() "
   ]
  },
  {
   "cell_type": "code",
   "execution_count": 102,
   "id": "cbfca43f",
   "metadata": {},
   "outputs": [
    {
     "name": "stdout",
     "output_type": "stream",
     "text": [
      "================================\u001b[1m Human Message \u001b[0m=================================\n",
      "\n",
      "What is a 5 multiply by 4\n",
      "==================================\u001b[1m Ai Message \u001b[0m==================================\n",
      "Tool Calls:\n",
      "  customerfunction (9cfpwxgrd)\n",
      " Call ID: 9cfpwxgrd\n",
      "  Args:\n",
      "    a: 5\n",
      "    b: 4\n",
      "=================================\u001b[1m Tool Message \u001b[0m=================================\n",
      "Name: customerfunction\n",
      "\n",
      "20\n"
     ]
    }
   ],
   "source": [
    "response=graph.invoke({\"messages\":\"What is a 5 multiply by 4\"})\n",
    "for m in response['messages']:\n",
    "    m.pretty_print() "
   ]
  },
  {
   "cell_type": "code",
   "execution_count": 103,
   "id": "02eb495d",
   "metadata": {},
   "outputs": [],
   "source": [
    "# ReAct Agent\n",
    "# rather than passing the Tool Call output passing it to the LLM to make the decision on End of another tool call will make the flow\n",
    "# accurate. and can assure that the quwey got the correct results. \n",
    "# Act, Robserve, Reason"
   ]
  },
  {
   "cell_type": "code",
   "execution_count": 104,
   "id": "918b638d",
   "metadata": {},
   "outputs": [
    {
     "data": {
      "image/png": "[encoded data removed]",
      "text/plain": [
       "<IPython.core.display.Image object>"
      ]
     },
     "metadata": {},
     "output_type": "display_data"
    }
   ],
   "source": [
    "# Node definition\n",
    "def tool_calling_llm(state:State):\n",
    "    return {\"messages\":[llm_with_tools.invoke(state[\"messages\"])]}\n",
    "\n",
    "builder=StateGraph(State)\n",
    "builder.add_node(\"tool_calling_llm\",tool_calling_llm)\n",
    "builder.add_node(\"tools\", ToolNode(tools))\n",
    "\n",
    "# Add edges\n",
    "builder.add_edge(START, \"tool_calling_llm\")\n",
    "builder.add_conditional_edges(\n",
    "    \"tool_calling_llm\",\n",
    "    # if the latest message which is the result is a tool call -> tool_condition routes to tool, else routes to end\n",
    "    tools_condition\n",
    ")\n",
    "builder.add_edge(\"tools\",  \"tool_calling_llm\")\n",
    "\n",
    "graph=builder.compile()\n",
    "\n",
    "display(Image(graph.get_graph().draw_mermaid_png()))\n",
    "\n"
   ]
  }
 ],
 "metadata": {
  "kernelspec": {
   "display_name": "Agents",
   "language": "python",
   "name": "python3"
  },
  "language_info": {
   "codemirror_mode": {
    "name": "ipython",
    "version": 3
   },
   "file_extension": ".py",
   "mimetype": "text/x-python",
   "name": "python",
   "nbconvert_exporter": "python",
   "pygments_lexer": "ipython3",
   "version": "3.11.1"
  }
 },
 "nbformat": 4,
 "nbformat_minor": 5
}
